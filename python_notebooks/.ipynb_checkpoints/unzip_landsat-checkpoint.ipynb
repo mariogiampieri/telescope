{
 "cells": [
  {
   "cell_type": "code",
   "execution_count": null,
   "metadata": {},
   "outputs": [
    {
     "name": "stdout",
     "output_type": "stream",
     "text": [
      "finished unzipping.\n"
     ]
    }
   ],
   "source": [
    "import os, zipfile, tarfile\n",
    "\n",
    "in_dir = '/Volumes/ghost_ship/kawsay/espa-marioag@mit.edu-0101804207238'\n",
    "out_dir = '/Volumes/ghost_ship/kawsay/out/all'\n",
    "extension = \".tar.gz\"\n",
    "\n",
    "os.chdir(in_dir) # change directory from working dir to dir with files\n",
    "\n",
    "for item in os.listdir(in_dir): # loop through items in dir\n",
    "    if item.endswith(extension): # check for \".zip\" extension\n",
    "        file_name = os.path.abspath(item) # get full path of files\n",
    "        tar = tarfile.open(file_name)\n",
    "        tar.extractall(out_dir)\n",
    "        tar.close()\n",
    "    print \"finished unzipping.\""
   ]
  },
  {
   "cell_type": "code",
   "execution_count": null,
   "metadata": {
    "collapsed": true
   },
   "outputs": [],
   "source": []
  }
 ],
 "metadata": {
  "kernelspec": {
   "display_name": "Python 2",
   "language": "python",
   "name": "python2"
  },
  "language_info": {
   "codemirror_mode": {
    "name": "ipython",
    "version": 2
   },
   "file_extension": ".py",
   "mimetype": "text/x-python",
   "name": "python",
   "nbconvert_exporter": "python",
   "pygments_lexer": "ipython2",
   "version": "2.7.11"
  }
 },
 "nbformat": 4,
 "nbformat_minor": 2
}
