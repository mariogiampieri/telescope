{
 "cells": [
  {
   "cell_type": "code",
   "execution_count": 1,
   "metadata": {},
   "outputs": [
    {
     "name": "stdout",
     "output_type": "stream",
     "text": [
      "connected to bucket\n",
      "connected to bucket\n",
      "checking files...\n",
      "Found 12 scene(s) with less than 15% cloud cover.\n",
      "downloading files...\n",
      "downloading ls08/LC08_L1TP_007068_20170713_20170726_01_T1_MTL.txt...\n",
      "downloading ls08/LC08_L1TP_007069_20180411_20180417_01_T1_MTL.txt...\n",
      "downloading ls08/LC08_L1TP_007069_20170219_20170301_01_T1_MTL.txt...\n",
      "downloading ls08/LC08_L1TP_007068_20171001_20171013_01_T1_MTL.txt...\n",
      "downloading ls08/LC08_L1TP_007068_20170424_20170502_01_T1_MTL.txt...\n",
      "downloading ls08/LC08_L1TP_008068_20180418_20180419_01_RT_MTL.txt...\n",
      "downloading ls08/LC08_L1TP_007069_20170408_20170414_01_T1_MTL.txt...\n",
      "downloading ls08/LC08_L1TP_008068_20161224_20170315_01_T1_MTL.txt...\n",
      "downloading ls08/LC08_L1TP_007069_20180326_20180404_01_T1_MTL.txt...\n",
      "downloading ls08/LC08_L1TP_007069_20170510_20170516_01_T1_MTL.txt...\n",
      "downloading ls08/LC08_L1TP_008068_20170415_20170501_01_T1_MTL.txt...\n",
      "downloading ls08/LC08_L1TP_008068_20170501_20170515_01_T1_MTL.txt...\n",
      "downloaded all files.\n"
     ]
    }
   ],
   "source": [
    "import s3_connector as s\n",
    "\n",
    "\n",
    "# s.connectToBucket()\n",
    "s.getLS08()\n",
    "# s.listBuckets()"
   ]
  },
  {
   "cell_type": "code",
   "execution_count": 2,
   "metadata": {},
   "outputs": [],
   "source": [
    "import gdal\n",
    "import ogr, osr"
   ]
  },
  {
   "cell_type": "code",
   "execution_count": null,
   "metadata": {},
   "outputs": [],
   "source": []
  }
 ],
 "metadata": {
  "kernelspec": {
   "display_name": "telescope",
   "language": "python",
   "name": "telescope"
  },
  "language_info": {
   "codemirror_mode": {
    "name": "ipython",
    "version": 2
   },
   "file_extension": ".py",
   "mimetype": "text/x-python",
   "name": "python",
   "nbconvert_exporter": "python",
   "pygments_lexer": "ipython2",
   "version": "2.7.15"
  }
 },
 "nbformat": 4,
 "nbformat_minor": 2
}
